{
 "cells": [
  {
   "cell_type": "markdown",
   "id": "f2feec14",
   "metadata": {},
   "source": [
    "# Programming Assignment 4\n",
    "<p>Author: Zane Brown<br>Version:1<br>CS-150-01<p>"
   ]
  },
  {
   "cell_type": "markdown",
   "id": "58f19ca3",
   "metadata": {},
   "source": [
    "i. append()- allows you to add one element to the end of a list"
   ]
  },
  {
   "cell_type": "code",
   "execution_count": 36,
   "id": "6cd3d67f",
   "metadata": {},
   "outputs": [
    {
     "data": {
      "text/plain": [
       "[1, 4, 6, 7, 9]"
      ]
     },
     "execution_count": 36,
     "metadata": {},
     "output_type": "execute_result"
    }
   ],
   "source": [
    "numbers=[1,4,6,7,9]\n",
    "numbers"
   ]
  },
  {
   "cell_type": "code",
   "execution_count": 37,
   "id": "f4e1d0be",
   "metadata": {},
   "outputs": [
    {
     "data": {
      "text/plain": [
       "[1, 4, 6, 7, 9, 17]"
      ]
     },
     "execution_count": 37,
     "metadata": {},
     "output_type": "execute_result"
    }
   ],
   "source": [
    "numbers.append(17)\n",
    "numbers"
   ]
  },
  {
   "cell_type": "markdown",
   "id": "65c02abb",
   "metadata": {},
   "source": [
    "ii. extend()- allows you to add multiple elements to the end of a list but it has to be in a list form"
   ]
  },
  {
   "cell_type": "code",
   "execution_count": 38,
   "id": "57b78829",
   "metadata": {},
   "outputs": [
    {
     "data": {
      "text/plain": [
       "[1, 4, 6, 7, 9, 17]"
      ]
     },
     "execution_count": 38,
     "metadata": {},
     "output_type": "execute_result"
    }
   ],
   "source": [
    "numbers"
   ]
  },
  {
   "cell_type": "code",
   "execution_count": 39,
   "id": "17d085b4",
   "metadata": {},
   "outputs": [
    {
     "data": {
      "text/plain": [
       "[1, 4, 6, 7, 9, 17, 100, 56, 23]"
      ]
     },
     "execution_count": 39,
     "metadata": {},
     "output_type": "execute_result"
    }
   ],
   "source": [
    "numbers.extend([100,56,23])\n",
    "numbers"
   ]
  },
  {
   "cell_type": "markdown",
   "id": "f4389a21",
   "metadata": {},
   "source": [
    "iii. insert()- allows you to insert an element into a list at any index position"
   ]
  },
  {
   "cell_type": "code",
   "execution_count": 40,
   "id": "d563ebcd",
   "metadata": {},
   "outputs": [
    {
     "data": {
      "text/plain": [
       "[1, 20, 4, 6, 7, 9, 17, 100, 56, 23]"
      ]
     },
     "execution_count": 40,
     "metadata": {},
     "output_type": "execute_result"
    }
   ],
   "source": [
    "numbers.insert(1,20)\n",
    "numbers"
   ]
  },
  {
   "cell_type": "markdown",
   "id": "4a06741e",
   "metadata": {},
   "source": [
    "iv. remove()- allows you to remove an element from a list if the value exists. Will only remove the fisrt occurence if it occurs more than once."
   ]
  },
  {
   "cell_type": "code",
   "execution_count": 41,
   "id": "9b964f53",
   "metadata": {},
   "outputs": [
    {
     "data": {
      "text/plain": [
       "[1, 20, 4, 6, 7, 9, 17, 100, 56, 23]"
      ]
     },
     "execution_count": 41,
     "metadata": {},
     "output_type": "execute_result"
    }
   ],
   "source": [
    "numbers"
   ]
  },
  {
   "cell_type": "code",
   "execution_count": 42,
   "id": "53d0ab30",
   "metadata": {},
   "outputs": [
    {
     "data": {
      "text/plain": [
       "[20, 4, 6, 7, 9, 17, 100, 56, 23]"
      ]
     },
     "execution_count": 42,
     "metadata": {},
     "output_type": "execute_result"
    }
   ],
   "source": [
    "numbers.remove(1)\n",
    "numbers"
   ]
  },
  {
   "cell_type": "markdown",
   "id": "3f841042",
   "metadata": {},
   "source": [
    "v. count()- will tell us how many times a specific element occurs in a list."
   ]
  },
  {
   "cell_type": "code",
   "execution_count": 43,
   "id": "fb1108b1",
   "metadata": {},
   "outputs": [
    {
     "data": {
      "text/plain": [
       "[20, 4, 6, 7, 9, 17, 100, 56, 23, 20]"
      ]
     },
     "execution_count": 43,
     "metadata": {},
     "output_type": "execute_result"
    }
   ],
   "source": [
    "numbers.append(20) \n",
    "numbers"
   ]
  },
  {
   "cell_type": "code",
   "execution_count": 44,
   "id": "87100b8f",
   "metadata": {},
   "outputs": [
    {
     "data": {
      "text/plain": [
       "2"
      ]
     },
     "execution_count": 44,
     "metadata": {},
     "output_type": "execute_result"
    }
   ],
   "source": [
    "numbers.count(20)"
   ]
  },
  {
   "cell_type": "markdown",
   "id": "e19c6406",
   "metadata": {},
   "source": [
    "vi. index()- gives us the index of an item if it is in the list"
   ]
  },
  {
   "cell_type": "code",
   "execution_count": 51,
   "id": "3783f6ca",
   "metadata": {},
   "outputs": [
    {
     "data": {
      "text/plain": [
       "[20, 4, 6, 7, 17, 100, 56, 23, 20]"
      ]
     },
     "execution_count": 51,
     "metadata": {},
     "output_type": "execute_result"
    }
   ],
   "source": [
    "numbers"
   ]
  },
  {
   "cell_type": "code",
   "execution_count": 52,
   "id": "7d44eeda",
   "metadata": {},
   "outputs": [
    {
     "data": {
      "text/plain": [
       "4"
      ]
     },
     "execution_count": 52,
     "metadata": {},
     "output_type": "execute_result"
    }
   ],
   "source": [
    "numbers.index(17)"
   ]
  },
  {
   "cell_type": "markdown",
   "id": "d7ca3fe2",
   "metadata": {},
   "source": [
    "vii. pop()- allows you to remove an element at a specific position"
   ]
  },
  {
   "cell_type": "code",
   "execution_count": 45,
   "id": "41b6b699",
   "metadata": {},
   "outputs": [
    {
     "data": {
      "text/plain": [
       "[20, 4, 6, 7, 9, 17, 100, 56, 23, 20]"
      ]
     },
     "execution_count": 45,
     "metadata": {},
     "output_type": "execute_result"
    }
   ],
   "source": [
    "numbers"
   ]
  },
  {
   "cell_type": "code",
   "execution_count": 46,
   "id": "090f4e07",
   "metadata": {},
   "outputs": [
    {
     "data": {
      "text/plain": [
       "[20, 4, 6, 7, 17, 100, 56, 23, 20]"
      ]
     },
     "execution_count": 46,
     "metadata": {},
     "output_type": "execute_result"
    }
   ],
   "source": [
    "numbers.pop(4)\n",
    "numbers"
   ]
  },
  {
   "cell_type": "markdown",
   "id": "cb7c9638",
   "metadata": {},
   "source": [
    "viii. sorted()- allows you to sort you list in increasing order without permanetly changing the list"
   ]
  },
  {
   "cell_type": "code",
   "execution_count": 47,
   "id": "2f5156f8",
   "metadata": {},
   "outputs": [
    {
     "data": {
      "text/plain": [
       "[20, 4, 6, 7, 17, 100, 56, 23, 20]"
      ]
     },
     "execution_count": 47,
     "metadata": {},
     "output_type": "execute_result"
    }
   ],
   "source": [
    "numbers"
   ]
  },
  {
   "cell_type": "code",
   "execution_count": 48,
   "id": "cd9f718c",
   "metadata": {},
   "outputs": [
    {
     "data": {
      "text/plain": [
       "[4, 6, 7, 17, 20, 20, 23, 56, 100]"
      ]
     },
     "execution_count": 48,
     "metadata": {},
     "output_type": "execute_result"
    }
   ],
   "source": [
    "x=sorted(numbers)\n",
    "x"
   ]
  },
  {
   "cell_type": "code",
   "execution_count": 50,
   "id": "2b14f7a5",
   "metadata": {},
   "outputs": [
    {
     "data": {
      "text/plain": [
       "[20, 4, 6, 7, 17, 100, 56, 23, 20]"
      ]
     },
     "execution_count": 50,
     "metadata": {},
     "output_type": "execute_result"
    }
   ],
   "source": [
    "numbers # The original list hasn't changed"
   ]
  },
  {
   "cell_type": "markdown",
   "id": "dc3d9d2b",
   "metadata": {},
   "source": [
    "ix. copy()- gives us a copy of the original list so we don't have to make changes to the original."
   ]
  },
  {
   "cell_type": "code",
   "execution_count": 54,
   "id": "e14a1af8",
   "metadata": {},
   "outputs": [
    {
     "data": {
      "text/plain": [
       "[20, 4, 6, 7, 17, 100, 56, 23, 20]"
      ]
     },
     "execution_count": 54,
     "metadata": {},
     "output_type": "execute_result"
    }
   ],
   "source": [
    "numbers"
   ]
  },
  {
   "cell_type": "code",
   "execution_count": 53,
   "id": "7caa0623",
   "metadata": {},
   "outputs": [
    {
     "data": {
      "text/plain": [
       "[20, 4, 6, 7, 17, 100, 56, 23, 20]"
      ]
     },
     "execution_count": 53,
     "metadata": {},
     "output_type": "execute_result"
    }
   ],
   "source": [
    "y=numbers.copy()\n",
    "y"
   ]
  },
  {
   "cell_type": "markdown",
   "id": "d76f76f5",
   "metadata": {},
   "source": [
    "x. clear()- will remove all the elements from a list. Leaving you with an empty list."
   ]
  },
  {
   "cell_type": "code",
   "execution_count": 55,
   "id": "1ebf8b09",
   "metadata": {},
   "outputs": [
    {
     "data": {
      "text/plain": [
       "[20, 4, 6, 7, 17, 100, 56, 23, 20]"
      ]
     },
     "execution_count": 55,
     "metadata": {},
     "output_type": "execute_result"
    }
   ],
   "source": [
    "numbers"
   ]
  },
  {
   "cell_type": "code",
   "execution_count": 56,
   "id": "2a45c8fa",
   "metadata": {},
   "outputs": [
    {
     "data": {
      "text/plain": [
       "[]"
      ]
     },
     "execution_count": 56,
     "metadata": {},
     "output_type": "execute_result"
    }
   ],
   "source": [
    "numbers.clear()\n",
    "numbers"
   ]
  },
  {
   "cell_type": "markdown",
   "id": "6c4572c0",
   "metadata": {},
   "source": [
    "xi. any()- will return true if any item in a list are true."
   ]
  },
  {
   "cell_type": "code",
   "execution_count": 58,
   "id": "6b3831dd",
   "metadata": {},
   "outputs": [
    {
     "data": {
      "text/plain": [
       "True"
      ]
     },
     "execution_count": 58,
     "metadata": {},
     "output_type": "execute_result"
    }
   ],
   "source": [
    "x1=[False,False,True,False]\n",
    "x=any(x1)\n",
    "x"
   ]
  },
  {
   "cell_type": "markdown",
   "id": "ea4e3434",
   "metadata": {},
   "source": [
    "xii. filter()- will return a list where the items are filtered through a function to test if it should be accepted or not."
   ]
  },
  {
   "cell_type": "code",
   "execution_count": 59,
   "id": "a56ad5be",
   "metadata": {},
   "outputs": [],
   "source": [
    "numbers=[2,46,23,54,33,75,100,101,92,97]"
   ]
  },
  {
   "cell_type": "code",
   "execution_count": 61,
   "id": "3475b1f6",
   "metadata": {},
   "outputs": [],
   "source": [
    "def test1(x): # Will return items that are even in the list.\n",
    "    return x%2==0"
   ]
  },
  {
   "cell_type": "code",
   "execution_count": 62,
   "id": "4484e173",
   "metadata": {},
   "outputs": [
    {
     "data": {
      "text/plain": [
       "[2, 46, 54, 100, 92]"
      ]
     },
     "execution_count": 62,
     "metadata": {},
     "output_type": "execute_result"
    }
   ],
   "source": [
    "list(filter(test1,numbers))"
   ]
  },
  {
   "cell_type": "markdown",
   "id": "92e2b1ae",
   "metadata": {},
   "source": [
    "xiii. list()- will iterate through the results and create a list"
   ]
  },
  {
   "cell_type": "code",
   "execution_count": 63,
   "id": "c8d33f43",
   "metadata": {},
   "outputs": [],
   "source": [
    "string1= \"Zane\""
   ]
  },
  {
   "cell_type": "code",
   "execution_count": 64,
   "id": "68710da0",
   "metadata": {},
   "outputs": [
    {
     "data": {
      "text/plain": [
       "['Z', 'a', 'n', 'e']"
      ]
     },
     "execution_count": 64,
     "metadata": {},
     "output_type": "execute_result"
    }
   ],
   "source": [
    "list(string1)"
   ]
  },
  {
   "cell_type": "markdown",
   "id": "362c11e6",
   "metadata": {},
   "source": [
    "xiv. map()- allows you to execute a specific function for each item in a list. "
   ]
  },
  {
   "cell_type": "code",
   "execution_count": 84,
   "id": "d1028797",
   "metadata": {},
   "outputs": [],
   "source": [
    "numbers=[2,5,10,25,50,100,15]\n",
    "def test2(x):\n",
    "    return x*3"
   ]
  },
  {
   "cell_type": "code",
   "execution_count": 85,
   "id": "be21f12a",
   "metadata": {},
   "outputs": [
    {
     "data": {
      "text/plain": [
       "[6, 15, 30, 75, 150, 300, 45]"
      ]
     },
     "execution_count": 85,
     "metadata": {},
     "output_type": "execute_result"
    }
   ],
   "source": [
    "list(map(test2,numbers))"
   ]
  },
  {
   "cell_type": "markdown",
   "id": "13dbc1c2",
   "metadata": {},
   "source": [
    "B.i. cmp()-used to compare to list. Test to see if the first list is greater than, less than, or equal to the second list. Returns -1 of 1st list is less than 2nd, 0 if they are equal, and 1 if 1st is greater than 2nd. Stringers are considered greater than integers and if a list is smaller than another but has a string value before the other one in the list it will return 1 if it is the 1st list."
   ]
  },
  {
   "cell_type": "code",
   "execution_count": 89,
   "id": "bb4c3171",
   "metadata": {},
   "outputs": [
    {
     "name": "stdout",
     "output_type": "stream",
     "text": [
      "Object `cmp` not found.\n"
     ]
    }
   ],
   "source": [
    "cmp?"
   ]
  },
  {
   "cell_type": "markdown",
   "id": "1fb267fa",
   "metadata": {},
   "source": [
    "cmp() does not work in python 3 from what I read on the internet."
   ]
  },
  {
   "cell_type": "markdown",
   "id": "11b15df2",
   "metadata": {},
   "source": [
    "ii. len()- will return the number of elements that a list contains"
   ]
  },
  {
   "cell_type": "code",
   "execution_count": 90,
   "id": "dc38ac70",
   "metadata": {},
   "outputs": [
    {
     "data": {
      "text/plain": [
       "[2, 5, 10, 25, 50, 100, 15]"
      ]
     },
     "execution_count": 90,
     "metadata": {},
     "output_type": "execute_result"
    }
   ],
   "source": [
    "numbers"
   ]
  },
  {
   "cell_type": "code",
   "execution_count": 91,
   "id": "db12a710",
   "metadata": {},
   "outputs": [
    {
     "data": {
      "text/plain": [
       "7"
      ]
     },
     "execution_count": 91,
     "metadata": {},
     "output_type": "execute_result"
    }
   ],
   "source": [
    "len(numbers)"
   ]
  },
  {
   "cell_type": "markdown",
   "id": "40377186",
   "metadata": {},
   "source": [
    "iii. max()-will return the highest value in a list"
   ]
  },
  {
   "cell_type": "code",
   "execution_count": 92,
   "id": "1fbff954",
   "metadata": {},
   "outputs": [
    {
     "data": {
      "text/plain": [
       "[2, 5, 10, 25, 50, 100, 15]"
      ]
     },
     "execution_count": 92,
     "metadata": {},
     "output_type": "execute_result"
    }
   ],
   "source": [
    "numbers"
   ]
  },
  {
   "cell_type": "code",
   "execution_count": 93,
   "id": "89a9534c",
   "metadata": {},
   "outputs": [
    {
     "data": {
      "text/plain": [
       "100"
      ]
     },
     "execution_count": 93,
     "metadata": {},
     "output_type": "execute_result"
    }
   ],
   "source": [
    "max(numbers)"
   ]
  },
  {
   "cell_type": "markdown",
   "id": "de0c8649",
   "metadata": {},
   "source": [
    "iv. tuple(seq)- will return a sequence of items as a tuple"
   ]
  },
  {
   "cell_type": "code",
   "execution_count": 95,
   "id": "fe36d5d2",
   "metadata": {},
   "outputs": [
    {
     "data": {
      "text/plain": [
       "[2, 5, 10, 25, 50, 100, 15]"
      ]
     },
     "execution_count": 95,
     "metadata": {},
     "output_type": "execute_result"
    }
   ],
   "source": [
    "numbers"
   ]
  },
  {
   "cell_type": "code",
   "execution_count": 96,
   "id": "d3726a12",
   "metadata": {},
   "outputs": [
    {
     "data": {
      "text/plain": [
       "list"
      ]
     },
     "execution_count": 96,
     "metadata": {},
     "output_type": "execute_result"
    }
   ],
   "source": [
    "type(numbers)"
   ]
  },
  {
   "cell_type": "code",
   "execution_count": 100,
   "id": "0af27993",
   "metadata": {},
   "outputs": [
    {
     "data": {
      "text/plain": [
       "(2, 5, 10, 25, 50, 100, 15)"
      ]
     },
     "execution_count": 100,
     "metadata": {},
     "output_type": "execute_result"
    }
   ],
   "source": [
    "x=tuple(numbers)\n",
    "x"
   ]
  },
  {
   "cell_type": "code",
   "execution_count": 102,
   "id": "287266da",
   "metadata": {},
   "outputs": [
    {
     "data": {
      "text/plain": [
       "tuple"
      ]
     },
     "execution_count": 102,
     "metadata": {},
     "output_type": "execute_result"
    }
   ],
   "source": [
    "type(x)"
   ]
  },
  {
   "cell_type": "code",
   "execution_count": 188,
   "id": "8ef5ed8c",
   "metadata": {},
   "outputs": [
    {
     "name": "stdout",
     "output_type": "stream",
     "text": [
      "[1, 53, 81, 27, 63, 100, 81, 84, 17, 53]\n"
     ]
    }
   ],
   "source": [
    "import random\n",
    "numbers=[random.randrange(1,101)for i in range(10)]\n",
    "print(numbers)\n",
    "def encode():\n",
    "    for i in range(len(numbers)):\n",
    "        if numbers[i]%2==0:\n",
    "            numbers[i]=1\n",
    "        else:\n",
    "            numbers[i]=-1\n",
    "    return numbers\n",
    "\n"
   ]
  },
  {
   "cell_type": "code",
   "execution_count": 189,
   "id": "02a0300f",
   "metadata": {},
   "outputs": [
    {
     "data": {
      "text/plain": [
       "[-1, -1, -1, -1, -1, 1, -1, 1, -1, -1]"
      ]
     },
     "execution_count": 189,
     "metadata": {},
     "output_type": "execute_result"
    }
   ],
   "source": [
    "encode()\n"
   ]
  },
  {
   "cell_type": "code",
   "execution_count": 16,
   "id": "0bcb7e43",
   "metadata": {},
   "outputs": [],
   "source": [
    "x=()\n",
    "def rotate(*x):\n",
    "    a=x[0]\n",
    "    b=x[1]\n",
    "    c=x[2]\n",
    "    x1=(c,a,b)\n",
    "    \n",
    "    \n",
    "    return x1\n",
    "    "
   ]
  },
  {
   "cell_type": "code",
   "execution_count": 18,
   "id": "33e4d634",
   "metadata": {},
   "outputs": [
    {
     "data": {
      "text/plain": [
       "(21, 'zane', 'brown')"
      ]
     },
     "execution_count": 18,
     "metadata": {},
     "output_type": "execute_result"
    }
   ],
   "source": [
    "rotate('zane','brown',21)"
   ]
  },
  {
   "cell_type": "code",
   "execution_count": null,
   "id": "f59e634f",
   "metadata": {},
   "outputs": [],
   "source": []
  }
 ],
 "metadata": {
  "kernelspec": {
   "display_name": "Python 3",
   "language": "python",
   "name": "python3"
  },
  "language_info": {
   "codemirror_mode": {
    "name": "ipython",
    "version": 3
   },
   "file_extension": ".py",
   "mimetype": "text/x-python",
   "name": "python",
   "nbconvert_exporter": "python",
   "pygments_lexer": "ipython3",
   "version": "3.8.8"
  }
 },
 "nbformat": 4,
 "nbformat_minor": 5
}
